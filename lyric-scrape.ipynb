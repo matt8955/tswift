{
 "metadata": {
  "language_info": {
   "codemirror_mode": {
    "name": "ipython",
    "version": 3
   },
   "file_extension": ".py",
   "mimetype": "text/x-python",
   "name": "python",
   "nbconvert_exporter": "python",
   "pygments_lexer": "ipython3",
   "version": "3.7.7-final"
  },
  "orig_nbformat": 2,
  "kernelspec": {
   "name": "python_defaultSpec_1600560068302",
   "display_name": "Python 3.7.7 64-bit ('tswift': venv)"
  }
 },
 "nbformat": 4,
 "nbformat_minor": 2,
 "cells": [
  {
   "cell_type": "code",
   "execution_count": 1,
   "metadata": {},
   "outputs": [],
   "source": [
    "import pandas as pd\n",
    "import numpy as numpy\n",
    "import pylyrics3\n",
    "from tqdm import tqdm"
   ]
  },
  {
   "cell_type": "code",
   "execution_count": 2,
   "metadata": {},
   "outputs": [],
   "source": [
    "df = pd.read_csv(\"/Users/matt/dev/pylyrics3/popular/fails.csv\",sep=\"|\")"
   ]
  },
  {
   "cell_type": "code",
   "execution_count": 3,
   "metadata": {},
   "outputs": [
    {
     "output_type": "execute_result",
     "data": {
      "text/plain": "                    artist_id             name\n0      5iyTbismzdvyjpjIuhKRvX         Foogiano\n1      3NQqBSVanWYYIa7Y7deMgA           LIINII\n2      2izgj6WOKJsuCRCQUKOoVO             Nonô\n3      3ICo3DF8pXFJEdzph2b6gh    Charlie Sloth\n4      7MdlXmq2HViAJWo9cf30sR          Cloonee\n...                       ...              ...\n12676  1grI9x4Uzos1Asx8JmRW6T         Lil Keke\n12677  6rRY793jdSneQ9aSy0RtMN       Marta Soto\n12678  35WaRsrLTXoHhL5b9uI3Mq             BASI\n12679  0xe3AMjZeR6z3g4O6Vppjq             Ooyy\n12680  1O8X4zxUh4AdAPFttOTlLr  Thouxanbanfauni\n\n[12681 rows x 2 columns]",
      "text/html": "<div>\n<style scoped>\n    .dataframe tbody tr th:only-of-type {\n        vertical-align: middle;\n    }\n\n    .dataframe tbody tr th {\n        vertical-align: top;\n    }\n\n    .dataframe thead th {\n        text-align: right;\n    }\n</style>\n<table border=\"1\" class=\"dataframe\">\n  <thead>\n    <tr style=\"text-align: right;\">\n      <th></th>\n      <th>artist_id</th>\n      <th>name</th>\n    </tr>\n  </thead>\n  <tbody>\n    <tr>\n      <th>0</th>\n      <td>5iyTbismzdvyjpjIuhKRvX</td>\n      <td>Foogiano</td>\n    </tr>\n    <tr>\n      <th>1</th>\n      <td>3NQqBSVanWYYIa7Y7deMgA</td>\n      <td>LIINII</td>\n    </tr>\n    <tr>\n      <th>2</th>\n      <td>2izgj6WOKJsuCRCQUKOoVO</td>\n      <td>Nonô</td>\n    </tr>\n    <tr>\n      <th>3</th>\n      <td>3ICo3DF8pXFJEdzph2b6gh</td>\n      <td>Charlie Sloth</td>\n    </tr>\n    <tr>\n      <th>4</th>\n      <td>7MdlXmq2HViAJWo9cf30sR</td>\n      <td>Cloonee</td>\n    </tr>\n    <tr>\n      <th>...</th>\n      <td>...</td>\n      <td>...</td>\n    </tr>\n    <tr>\n      <th>12676</th>\n      <td>1grI9x4Uzos1Asx8JmRW6T</td>\n      <td>Lil Keke</td>\n    </tr>\n    <tr>\n      <th>12677</th>\n      <td>6rRY793jdSneQ9aSy0RtMN</td>\n      <td>Marta Soto</td>\n    </tr>\n    <tr>\n      <th>12678</th>\n      <td>35WaRsrLTXoHhL5b9uI3Mq</td>\n      <td>BASI</td>\n    </tr>\n    <tr>\n      <th>12679</th>\n      <td>0xe3AMjZeR6z3g4O6Vppjq</td>\n      <td>Ooyy</td>\n    </tr>\n    <tr>\n      <th>12680</th>\n      <td>1O8X4zxUh4AdAPFttOTlLr</td>\n      <td>Thouxanbanfauni</td>\n    </tr>\n  </tbody>\n</table>\n<p>12681 rows × 2 columns</p>\n</div>"
     },
     "metadata": {},
     "execution_count": 3
    }
   ],
   "source": [
    "df"
   ]
  },
  {
   "cell_type": "code",
   "execution_count": 4,
   "metadata": {},
   "outputs": [],
   "source": [
    "artists = list(zip(df.name,df.artist_id))"
   ]
  },
  {
   "cell_type": "code",
   "execution_count": 5,
   "metadata": {},
   "outputs": [],
   "source": [
    "lyrics = {}"
   ]
  },
  {
   "cell_type": "code",
   "execution_count": null,
   "metadata": {},
   "outputs": [],
   "source": []
  },
  {
   "cell_type": "code",
   "execution_count": 2,
   "metadata": {},
   "outputs": [],
   "source": [
    "df = pd.read_csv('scraped_song_ids.csv')"
   ]
  },
  {
   "cell_type": "code",
   "execution_count": 3,
   "metadata": {},
   "outputs": [],
   "source": [
    "artists = df.artist.unique()"
   ]
  },
  {
   "cell_type": "code",
   "execution_count": 1,
   "metadata": {},
   "outputs": [],
   "source": [
    "import pickle\n",
    "\n",
    "with open('lyrics.pkl', 'rb') as f:\n",
    "   lyrics = pickle.load(f)"
   ]
  },
  {
   "cell_type": "code",
   "execution_count": 4,
   "metadata": {},
   "outputs": [],
   "source": [
    "x = list(lyrics.keys())"
   ]
  },
  {
   "cell_type": "code",
   "execution_count": 12,
   "metadata": {},
   "outputs": [
    {
     "output_type": "execute_result",
     "data": {
      "text/plain": "43580"
     },
     "metadata": {},
     "execution_count": 12
    }
   ],
   "source": [
    "len(x)"
   ]
  },
  {
   "cell_type": "code",
   "execution_count": 5,
   "metadata": {
    "tags": [
     "outputPrepend"
    ]
   },
   "outputs": [
    {
     "output_type": "stream",
     "name": "stderr",
     "text": "| 24699/25000 [9:14:53<04:38,  1.08it/s]Unable to download url http://lyrics.wikia.com/wiki/Labrenda_Ben\nSorry, we couldn't find a Wiki for 'labrenda ben' on LyricWiki.\n 99%|█████████▉| 24700/25000 [9:14:53<03:44,  1.33it/s]Unable to download url http://lyrics.wikia.com/wiki/Raysmuzik\nSorry, we couldn't find a Wiki for 'raysmuzik' on LyricWiki.\n 99%|█████████▉| 24702/25000 [9:14:54<03:00,  1.65it/s]Unable to download url http://lyrics.wikia.com/wiki/The_Maguas\nSorry, we couldn't find a Wiki for 'the maguas' on LyricWiki.\n 99%|█████████▉| 24709/25000 [9:15:00<04:18,  1.12it/s]Unable to download url http://lyrics.wikia.com/wiki/Brownboi_Maj\nSorry, we couldn't find a Wiki for 'brownboi maj' on LyricWiki.\n 99%|█████████▉| 24710/25000 [9:15:00<03:56,  1.23it/s]Unable to download url http://lyrics.wikia.com/wiki/Marcela_Laiferová\nSorry, we couldn't find a Wiki for 'marcela laiferová' on LyricWiki.\n 99%|█████████▉| 24713/25000 [9:15:03<03:37,  1.32it/s]Unable to download url http://lyrics.wikia.com/wiki/Juice_For_Life\nSorry, we couldn't find a Wiki for 'juice for life' on LyricWiki.\n 99%|█████████▉| 24720/25000 [9:15:18<05:11,  1.11s/it]Unable to download url http://lyrics.wikia.com/wiki/Jay_Mcshann\nSorry, we couldn't find a Wiki for 'jay mcshann' on LyricWiki.\n 99%|█████████▉| 24722/25000 [9:15:18<04:02,  1.15it/s]Unable to download url http://lyrics.wikia.com/wiki/Alicia_Delgado\nSorry, we couldn't find a Wiki for 'alicia delgado' on LyricWiki.\n 99%|█████████▉| 24727/25000 [9:15:25<05:11,  1.14s/it]Unable to download url http://lyrics.wikia.com/wiki/Copta\nSorry, we couldn't find a Wiki for 'copta' on LyricWiki.\n 99%|█████████▉| 24729/25000 [9:15:27<04:30,  1.00it/s]Unable to download url http://lyrics.wikia.com/wiki/Yasi\nSorry, we couldn't find a Wiki for 'yasi' on LyricWiki.\n 99%|█████████▉| 24731/25000 [9:15:27<03:23,  1.32it/s]Unable to download url http://lyrics.wikia.com/wiki/El_Uno_Mosiah\nSorry, we couldn't find a Wiki for 'el uno mosiah' on LyricWiki.\n 99%|█████████▉| 24732/25000 [9:15:28<03:06,  1.44it/s]Unable to download url http://lyrics.wikia.com/wiki/William_Hart\nSorry, we couldn't find a Wiki for 'william hart' on LyricWiki.\n 99%|█████████▉| 24734/25000 [9:15:28<02:23,  1.86it/s]Unable to download url http://lyrics.wikia.com/wiki/Lágoon\nSorry, we couldn't find a Wiki for 'lágoon' on LyricWiki.\n 99%|█████████▉| 24736/25000 [9:15:29<01:53,  2.32it/s]Unable to download url http://lyrics.wikia.com/wiki/The_Alien_Tongue_Trio\nSorry, we couldn't find a Wiki for 'the alien tongue trio' on LyricWiki.\n 99%|█████████▉| 24739/25000 [9:15:29<01:32,  2.83it/s]Unable to download url http://lyrics.wikia.com/wiki/Zoë_Keating\nSorry, we couldn't find a Wiki for 'zoë keating' on LyricWiki.\n 99%|█████████▉| 24744/25000 [9:16:11<25:37,  6.01s/it]Unable to download url http://lyrics.wikia.com/wiki/Rates\nSorry, we couldn't find a Wiki for 'rates' on LyricWiki.\n 99%|█████████▉| 24745/25000 [9:16:11<18:18,  4.31s/it]Unable to download url http://lyrics.wikia.com/wiki/Jazztick\nSorry, we couldn't find a Wiki for 'jazztick' on LyricWiki.\n 99%|█████████▉| 24754/25000 [9:16:20<10:12,  2.49s/it]Unable to download url http://lyrics.wikia.com/wiki/Mini_Golf\nSorry, we couldn't find a Wiki for 'mini golf' on LyricWiki.\n 99%|█████████▉| 24757/25000 [9:16:20<07:12,  1.78s/it]Unable to download url http://lyrics.wikia.com/wiki/Mirco_Caruso\nSorry, we couldn't find a Wiki for 'mirco caruso' on LyricWiki.\n 99%|█████████▉| 24760/25000 [9:16:21<05:09,  1.29s/it]Unable to download url http://lyrics.wikia.com/wiki/Vivienne_Chi\nSorry, we couldn't find a Wiki for 'vivienne chi' on LyricWiki.\n 99%|█████████▉| 24761/25000 [9:16:21<04:06,  1.03s/it]Unable to download url http://lyrics.wikia.com/wiki/Richard_Faecks\nSorry, we couldn't find a Wiki for 'richard faecks' on LyricWiki.\n 99%|█████████▉| 24763/25000 [9:16:22<03:12,  1.23it/s]Unable to download url http://lyrics.wikia.com/wiki/Madison_Minor\nSorry, we couldn't find a Wiki for 'madison minor' on LyricWiki.\n 99%|█████████▉| 24764/25000 [9:16:22<02:41,  1.46it/s]Unable to download url http://lyrics.wikia.com/wiki/Velha_Guarda_Da_Portela\nSorry, we couldn't find a Wiki for 'velha guarda da portela' on LyricWiki.\n 99%|█████████▉| 24765/25000 [9:16:22<02:17,  1.71it/s]Unable to download url http://lyrics.wikia.com/wiki/Winchester_Cathedral_Choir\nSorry, we couldn't find a Wiki for 'winchester cathedral choir' on LyricWiki.\n 99%|█████████▉| 24768/25000 [9:16:23<01:44,  2.21it/s]Unable to download url http://lyrics.wikia.com/wiki/Ethan_Gruska\nSorry, we couldn't find a Wiki for 'ethan gruska' on LyricWiki.\n 99%|█████████▉| 24769/25000 [9:16:23<01:41,  2.28it/s]Unable to download url http://lyrics.wikia.com/wiki/Stereo_Kicks\nSorry, we couldn't find a Wiki for 'stereo kicks' on LyricWiki.\n 99%|█████████▉| 24771/25000 [9:16:23<01:22,  2.78it/s]Unable to download url http://lyrics.wikia.com/wiki/The_Unlikely_Candidates\nSorry, we couldn't find a Wiki for 'the unlikely candidates' on LyricWiki.\n 99%|█████████▉| 24772/25000 [9:16:24<01:27,  2.61it/s]Unable to download url http://lyrics.wikia.com/wiki/Jesse_Baez\nSorry, we couldn't find a Wiki for 'jesse baez' on LyricWiki.\n 99%|█████████▉| 24775/25000 [9:16:31<06:04,  1.62s/it]Unable to download url http://lyrics.wikia.com/wiki/Oxen\nSorry, we couldn't find a Wiki for 'oxen' on LyricWiki.\n 99%|█████████▉| 24778/25000 [9:16:31<04:18,  1.17s/it]Unable to download url http://lyrics.wikia.com/wiki/Shlump\nSorry, we couldn't find a Wiki for 'shlump' on LyricWiki.\n 99%|█████████▉| 24782/25000 [9:16:31<03:03,  1.19it/s]Unable to download url http://lyrics.wikia.com/wiki/The_Cooltrane_Quartet\nSorry, we couldn't find a Wiki for 'the cooltrane quartet' on LyricWiki.\n 99%|█████████▉| 24785/25000 [9:16:32<02:17,  1.56it/s]Unable to download url http://lyrics.wikia.com/wiki/Ali_Morgan\nSorry, we couldn't find a Wiki for 'ali morgan' on LyricWiki.\n 99%|█████████▉| 24787/25000 [9:16:32<01:47,  1.99it/s]Unable to download url http://lyrics.wikia.com/wiki/Neverglow\nSorry, we couldn't find a Wiki for 'neverglow' on LyricWiki.\n 99%|█████████▉| 24791/25000 [9:16:33<01:18,  2.65it/s]Unable to download url http://lyrics.wikia.com/wiki/Tirman_Kid\nSorry, we couldn't find a Wiki for 'tirman kid' on LyricWiki.\n 99%|█████████▉| 24792/25000 [9:16:33<01:27,  2.39it/s]Unable to download url http://lyrics.wikia.com/wiki/Fred_Ready\nSorry, we couldn't find a Wiki for 'fred ready' on LyricWiki.\n 99%|█████████▉| 24793/25000 [9:16:34<01:30,  2.30it/s]Unable to download url http://lyrics.wikia.com/wiki/Sebastian_Gereda\nSorry, we couldn't find a Wiki for 'sebastian gereda' on LyricWiki.\n 99%|█████████▉| 24796/25000 [9:16:57<17:14,  5.07s/it]Unable to download url http://lyrics.wikia.com/wiki/Soundtrack/Cast_Collection\nSorry, we couldn't find a Wiki for 'soundtrack/cast collection' on LyricWiki.\n 99%|█████████▉| 24799/25000 [9:17:00<09:55,  2.97s/it]Unable to download url http://lyrics.wikia.com/wiki/Members_Of_The_Glenn_Miller_Orchestra\nSorry, we couldn't find a Wiki for 'members of the glenn miller orchestra' on LyricWiki.\n 99%|█████████▉| 24800/25000 [9:17:00<07:15,  2.18s/it]Unable to download url http://lyrics.wikia.com/wiki/Pawas\nSorry, we couldn't find a Wiki for 'pawas' on LyricWiki.\n 99%|█████████▉| 24801/25000 [9:17:00<05:24,  1.63s/it]Unable to download url http://lyrics.wikia.com/wiki/Lukewarm\nSorry, we couldn't find a Wiki for 'lukewarm' on LyricWiki.\n 99%|█████████▉| 24802/25000 [9:17:01<04:05,  1.24s/it]Unable to download url http://lyrics.wikia.com/wiki/Dbwoy\nSorry, we couldn't find a Wiki for 'dbwoy' on LyricWiki.\n 99%|█████████▉| 24803/25000 [9:17:01<03:22,  1.03s/it]Unable to download url http://lyrics.wikia.com/wiki/Danny_Daze\nSorry, we couldn't find a Wiki for 'danny daze' on LyricWiki.\n 99%|█████████▉| 24809/25000 [9:17:02<02:26,  1.30it/s]Unable to download url http://lyrics.wikia.com/wiki/D-Spillz\nSorry, we couldn't find a Wiki for 'd-spillz' on LyricWiki.\n 99%|█████████▉| 24814/25000 [9:17:12<04:10,  1.34s/it]Unable to download url http://lyrics.wikia.com/wiki/Borhuh\nSorry, we couldn't find a Wiki for 'borhuh' on LyricWiki.\n 99%|█████████▉| 24818/25000 [9:17:13<02:57,  1.03it/s]Unable to download url http://lyrics.wikia.com/wiki/Moondragon\nSorry, we couldn't find a Wiki for 'moondragon' on LyricWiki.\n 99%|█████████▉| 24826/25000 [9:17:53<10:59,  3.79s/it]Unable to download url http://lyrics.wikia.com/wiki/Dat_Phella\nSorry, we couldn't find a Wiki for 'dat phella' on LyricWiki.\n 99%|█████████▉| 24831/25000 [9:17:53<07:33,  2.68s/it]Unable to download url http://lyrics.wikia.com/wiki/Hospitāļu_Iela\nSorry, we couldn't find a Wiki for 'hospitāļu iela' on LyricWiki.\n 99%|█████████▉| 24832/25000 [9:17:53<05:31,  1.98s/it]Unable to download url http://lyrics.wikia.com/wiki/Heclysma\nSorry, we couldn't find a Wiki for 'heclysma' on LyricWiki.\n 99%|█████████▉| 24833/25000 [9:17:54<04:19,  1.56s/it]Unable to download url http://lyrics.wikia.com/wiki/Cycle_Of_Hands\nSorry, we couldn't find a Wiki for 'cycle of hands' on LyricWiki.\n 99%|█████████▉| 24836/25000 [9:18:03<04:41,  1.72s/it]Unable to download url http://lyrics.wikia.com/wiki/Taz.Nfr\nSorry, we couldn't find a Wiki for 'taz.nfr' on LyricWiki.\n 99%|█████████▉| 24840/25000 [9:18:03<03:17,  1.23s/it]Unable to download url http://lyrics.wikia.com/wiki/Bummer\nSorry, we couldn't find a Wiki for 'bummer' on LyricWiki.\n 99%|█████████▉| 24842/25000 [9:18:03<02:24,  1.09it/s]Unable to download url http://lyrics.wikia.com/wiki/Honey_Moon\nSorry, we couldn't find a Wiki for 'honey moon' on LyricWiki.\n 99%|█████████▉| 24847/25000 [9:18:07<02:00,  1.27it/s]Unable to download url http://lyrics.wikia.com/wiki/Kioko\nSorry, we couldn't find a Wiki for 'kioko' on LyricWiki.\n 99%|█████████▉| 24854/25000 [9:18:07<01:23,  1.74it/s]Unable to download url http://lyrics.wikia.com/wiki/The_Steel_Woods\nSorry, we couldn't find a Wiki for 'the steel woods' on LyricWiki.\n 99%|█████████▉| 24856/25000 [9:18:14<04:16,  1.78s/it]Unable to download url http://lyrics.wikia.com/wiki/2Tone\nSorry, we couldn't find a Wiki for '2tone' on LyricWiki.\n 99%|█████████▉| 24858/25000 [9:18:14<03:04,  1.30s/it]Unable to download url http://lyrics.wikia.com/wiki/Gurnam_Bhullar\nSorry, we couldn't find a Wiki for 'gurnam bhullar' on LyricWiki.\n 99%|█████████▉| 24859/25000 [9:18:16<03:05,  1.31s/it]Unable to download url http://lyrics.wikia.com/wiki/Incognet\nSorry, we couldn't find a Wiki for 'incognet' on LyricWiki.\n 99%|█████████▉| 24865/25000 [9:18:18<01:54,  1.18it/s]Unable to download url http://lyrics.wikia.com/wiki/Dj_Red_Alert\nSorry, we couldn't find a Wiki for 'dj red alert' on LyricWiki.\n 99%|█████████▉| 24867/25000 [9:18:18<01:25,  1.55it/s]Unable to download url http://lyrics.wikia.com/wiki/Asian_Traditional_Music\nSorry, we couldn't find a Wiki for 'asian traditional music' on LyricWiki.\n 99%|█████████▉| 24869/25000 [9:18:19<01:11,  1.83it/s]Unable to download url http://lyrics.wikia.com/wiki/The_Marías\nSorry, we couldn't find a Wiki for 'the marías' on LyricWiki.\n 99%|█████████▉| 24870/25000 [9:18:19<01:03,  2.05it/s]Unable to download url http://lyrics.wikia.com/wiki/Jerónimo_Escajal\nSorry, we couldn't find a Wiki for 'jerónimo escajal' on LyricWiki.\n 99%|█████████▉| 24873/25000 [9:18:20<00:48,  2.61it/s]Unable to download url http://lyrics.wikia.com/wiki/Tantu\nSorry, we couldn't find a Wiki for 'tantu' on LyricWiki.\n 99%|█████████▉| 24874/25000 [9:18:20<00:51,  2.46it/s]Unable to download url http://lyrics.wikia.com/wiki/Like_Satellites\nSorry, we couldn't find a Wiki for 'like satellites' on LyricWiki.\n100%|█████████▉| 24876/25000 [9:18:21<00:43,  2.84it/s]Unable to download url http://lyrics.wikia.com/wiki/Ted_Ganung\nSorry, we couldn't find a Wiki for 'ted ganung' on LyricWiki.\n100%|█████████▉| 24878/25000 [9:18:27<03:07,  1.53s/it]Unable to download url http://lyrics.wikia.com/wiki/Danny_Darko\nSorry, we couldn't find a Wiki for 'danny darko' on LyricWiki.\n100%|█████████▉| 24880/25000 [9:18:27<02:15,  1.13s/it]Unable to download url http://lyrics.wikia.com/wiki/Pf_Project\nSorry, we couldn't find a Wiki for 'pf project' on LyricWiki.\n100%|█████████▉| 24884/25000 [9:18:28<01:36,  1.20it/s]Unable to download url http://lyrics.wikia.com/wiki/Dumb\nSorry, we couldn't find a Wiki for 'dumb' on LyricWiki.\n100%|█████████▉| 24887/25000 [9:18:28<01:10,  1.61it/s]Unable to download url http://lyrics.wikia.com/wiki/Hume\nSorry, we couldn't find a Wiki for 'hume' on LyricWiki.\n100%|█████████▉| 24894/25000 [9:18:44<05:36,  3.18s/it]Unable to download url http://lyrics.wikia.com/wiki/Humanity'S_Last_Breath\nSorry, we couldn't find a Wiki for 'humanity's last breath' on LyricWiki.\n100%|█████████▉| 24896/25000 [9:18:45<03:12,  1.85s/it]Unable to download url http://lyrics.wikia.com/wiki/Troy_Nōka\nSorry, we couldn't find a Wiki for 'troy nōka' on LyricWiki.\n100%|█████████▉| 24902/25000 [9:18:45<02:09,  1.32s/it]Unable to download url http://lyrics.wikia.com/wiki/Machito_&_His_Afro-Cubans\nSorry, we couldn't find a Wiki for 'machito & his afro-cubans' on LyricWiki.\n100%|█████████▉| 24903/25000 [9:18:46<01:39,  1.02s/it]Unable to download url http://lyrics.wikia.com/wiki/Emji\nSorry, we couldn't find a Wiki for 'emji' on LyricWiki.\n100%|█████████▉| 24905/25000 [9:18:46<01:12,  1.30it/s]Unable to download url http://lyrics.wikia.com/wiki/The_Blacksheeps\nSorry, we couldn't find a Wiki for 'the blacksheeps' on LyricWiki.\n100%|█████████▉| 24906/25000 [9:18:46<01:02,  1.50it/s]Unable to download url http://lyrics.wikia.com/wiki/Shirley_Collins_&_Albion_Country_Band\nSorry, we couldn't find a Wiki for 'shirley collins & albion country band' on LyricWiki.\n100%|█████████▉| 24907/25000 [9:18:47<00:58,  1.58it/s]Unable to download url http://lyrics.wikia.com/wiki/Los_Entrañas\nSorry, we couldn't find a Wiki for 'los entrañas' on LyricWiki.\n100%|█████████▉| 24910/25000 [9:18:48<00:45,  2.00it/s]Unable to download url http://lyrics.wikia.com/wiki/Dj_Phantasy\nSorry, we couldn't find a Wiki for 'dj phantasy' on LyricWiki.\n100%|█████████▉| 24916/25000 [9:19:05<02:55,  2.09s/it]Unable to download url http://lyrics.wikia.com/wiki/Der_Dritte_Raum\nSorry, we couldn't find a Wiki for 'der dritte raum' on LyricWiki.\n100%|█████████▉| 24920/25000 [9:19:06<01:59,  1.49s/it]Unable to download url http://lyrics.wikia.com/wiki/Nina_Massara\nSorry, we couldn't find a Wiki for 'nina massara' on LyricWiki.\n100%|█████████▉| 24925/25000 [9:19:13<01:52,  1.50s/it]Unable to download url http://lyrics.wikia.com/wiki/Weslley_Fonseca\nSorry, we couldn't find a Wiki for 'weslley fonseca' on LyricWiki.\n100%|█████████▉| 24926/25000 [9:19:13<01:27,  1.18s/it]Unable to download url http://lyrics.wikia.com/wiki/Scru_Face_Jean\nSorry, we couldn't find a Wiki for 'scru face jean' on LyricWiki.\n100%|█████████▉| 24927/25000 [9:19:14<01:10,  1.04it/s]Unable to download url http://lyrics.wikia.com/wiki/Dave_Cadaqu\nSorry, we couldn't find a Wiki for 'dave cadaqu' on LyricWiki.\n100%|█████████▉| 24929/25000 [9:19:14<00:51,  1.39it/s]Unable to download url http://lyrics.wikia.com/wiki/Royal_Pop_Of_Sound\nSorry, we couldn't find a Wiki for 'royal pop of sound' on LyricWiki.\n100%|█████████▉| 24931/25000 [9:19:15<00:39,  1.74it/s]Unable to download url http://lyrics.wikia.com/wiki/Sanaa_Moussa\nSorry, we couldn't find a Wiki for 'sanaa moussa' on LyricWiki.\n100%|█████████▉| 24934/25000 [9:19:17<00:39,  1.67it/s]Unable to download url http://lyrics.wikia.com/wiki/Elektron.Noise\nSorry, we couldn't find a Wiki for 'elektron.noise' on LyricWiki.\n100%|█████████▉| 24935/25000 [9:19:17<00:39,  1.65it/s]Unable to download url http://lyrics.wikia.com/wiki/Jfsebastian\nSorry, we couldn't find a Wiki for 'jfsebastian' on LyricWiki.\n100%|█████████▉| 24941/25000 [9:19:24<00:39,  1.49it/s]Unable to download url http://lyrics.wikia.com/wiki/Shunaji\nSorry, we couldn't find a Wiki for 'shunaji' on LyricWiki.\n100%|█████████▉| 24943/25000 [9:19:25<00:29,  1.93it/s]Unable to download url http://lyrics.wikia.com/wiki/Lemonah\nSorry, we couldn't find a Wiki for 'lemonah' on LyricWiki.\n100%|█████████▉| 24944/25000 [9:19:25<00:29,  1.92it/s]Unable to download url http://lyrics.wikia.com/wiki/Marcus_Taylor\nSorry, we couldn't find a Wiki for 'marcus taylor' on LyricWiki.\n100%|█████████▉| 24946/25000 [9:19:48<04:32,  5.05s/it]Unable to download url http://lyrics.wikia.com/wiki/Dr_Rob_And_The_Radi8Ors\nSorry, we couldn't find a Wiki for 'dr rob and the radi8ors' on LyricWiki.\n100%|█████████▉| 24948/25000 [9:19:48<03:06,  3.59s/it]Unable to download url http://lyrics.wikia.com/wiki/Gunner_Jules\nSorry, we couldn't find a Wiki for 'gunner jules' on LyricWiki.\n100%|█████████▉| 24950/25000 [9:19:49<02:09,  2.60s/it]Unable to download url http://lyrics.wikia.com/wiki/Dreams_After_Death\nSorry, we couldn't find a Wiki for 'dreams after death' on LyricWiki.\n100%|█████████▉| 24956/25000 [9:19:50<01:02,  1.41s/it]Unable to download url http://lyrics.wikia.com/wiki/Joy_Opposites\nSorry, we couldn't find a Wiki for 'joy opposites' on LyricWiki.\n100%|█████████▉| 24961/25000 [9:19:51<00:40,  1.03s/it]Unable to download url http://lyrics.wikia.com/wiki/Zé_Taylor\nSorry, we couldn't find a Wiki for 'zé taylor' on LyricWiki.\n100%|█████████▉| 24962/25000 [9:19:51<00:34,  1.10it/s]Unable to download url http://lyrics.wikia.com/wiki/Ro_Marsalis\nSorry, we couldn't find a Wiki for 'ro marsalis' on LyricWiki.\n100%|█████████▉| 24963/25000 [9:19:52<00:30,  1.23it/s]Unable to download url http://lyrics.wikia.com/wiki/The_Lowdown_Drifters\nSorry, we couldn't find a Wiki for 'the lowdown drifters' on LyricWiki.\n100%|█████████▉| 24964/25000 [9:19:52<00:24,  1.45it/s]Unable to download url http://lyrics.wikia.com/wiki/Soulkeeper\nSorry, we couldn't find a Wiki for 'soulkeeper' on LyricWiki.\n100%|█████████▉| 24971/25000 [9:21:28<08:48, 18.21s/it]Unable to download url http://lyrics.wikia.com/wiki/Mizuki_Ohira\nSorry, we couldn't find a Wiki for 'mizuki ohira' on LyricWiki.\n100%|█████████▉| 24972/25000 [9:21:29<06:11, 13.28s/it]Unable to download url http://lyrics.wikia.com/wiki/Gregoire_Maret\nSorry, we couldn't find a Wiki for 'gregoire maret' on LyricWiki.\n100%|█████████▉| 24973/25000 [9:21:30<04:13,  9.41s/it]Unable to download url http://lyrics.wikia.com/wiki/Maddy_Prior_&_Tim_Hart\nSorry, we couldn't find a Wiki for 'maddy prior & tim hart' on LyricWiki.\n100%|█████████▉| 24974/25000 [9:21:30<02:53,  6.68s/it]Unable to download url http://lyrics.wikia.com/wiki/Elevator_Music_Sensation\nSorry, we couldn't find a Wiki for 'elevator music sensation' on LyricWiki.\n100%|█████████▉| 24975/25000 [9:21:31<02:00,  4.82s/it]Unable to download url http://lyrics.wikia.com/wiki/The_Swing_Cats_Big_Band\nSorry, we couldn't find a Wiki for 'the swing cats big band' on LyricWiki.\n100%|█████████▉| 24976/25000 [9:21:31<01:23,  3.48s/it]Unable to download url http://lyrics.wikia.com/wiki/Sampson_\"Butch\"_Moore\nSorry, we couldn't find a Wiki for 'sampson \"butch\" moore' on LyricWiki.\n100%|█████████▉| 24981/25000 [9:21:31<00:46,  2.46s/it]Unable to download url http://lyrics.wikia.com/wiki/Muxima_Mc\nSorry, we couldn't find a Wiki for 'muxima mc' on LyricWiki.\n100%|█████████▉| 24985/25000 [9:21:32<00:26,  1.75s/it]Unable to download url http://lyrics.wikia.com/wiki/Hannah_&_Gabi\nSorry, we couldn't find a Wiki for 'hannah & gabi' on LyricWiki.\n100%|█████████▉| 24988/25000 [9:21:32<00:15,  1.28s/it]Unable to download url http://lyrics.wikia.com/wiki/Michael_Donaby\nSorry, we couldn't find a Wiki for 'michael donaby' on LyricWiki.\n100%|█████████▉| 24991/25000 [9:21:33<00:08,  1.07it/s]Unable to download url http://lyrics.wikia.com/wiki/A9\nSorry, we couldn't find a Wiki for 'a9' on LyricWiki.\n100%|█████████▉| 24996/25000 [9:21:33<00:02,  1.48it/s]Unable to download url http://lyrics.wikia.com/wiki/Java_Roots\nSorry, we couldn't find a Wiki for 'java roots' on LyricWiki.\n100%|██████████| 25000/25000 [9:21:33<00:00,  1.35s/it]Unable to download url http://lyrics.wikia.com/wiki/Jefferson_Moraes\nSorry, we couldn't find a Wiki for 'jefferson moraes' on LyricWiki.\n\n"
    }
   ],
   "source": [
    "import sys\n",
    "\n",
    "for i, artist in enumerate(tqdm(df.artist[50000:75000])):\n",
    "    try:\n",
    "        if artist not in lyrics.keys():\n",
    "            lyrics[artist] = pylyrics3.get_artist_lyrics(artist, albums=False)\n",
    "    except:\n",
    "        continue\n",
    "    if i % 1000 == 0:\n",
    "        with open('lyrics.pkl', 'wb') as f:\n",
    "            pickle.dump(lyrics, f, protocol=pickle.HIGHEST_PROTOCOL)\n",
    "            "
   ]
  },
  {
   "cell_type": "code",
   "execution_count": 7,
   "metadata": {},
   "outputs": [],
   "source": [
    "with open('lyrics.pkl', 'wb') as f:\n",
    "    pickle.dump(lyrics, f, protocol=pickle.HIGHEST_PROTOCOL)"
   ]
  },
  {
   "cell_type": "code",
   "execution_count": 8,
   "metadata": {
    "tags": []
   },
   "outputs": [
    {
     "output_type": "stream",
     "name": "stdout",
     "text": "604387\n"
    }
   ],
   "source": [
    "total_lyrics = 0\n",
    "items = list(lyrics.items())\n",
    "for key,value in [x for x in items if x[1]]:\n",
    "    total_lyrics += len(lyrics[key].keys())\n",
    "print(total_lyrics)"
   ]
  },
  {
   "cell_type": "code",
   "execution_count": 35,
   "metadata": {},
   "outputs": [
    {
     "output_type": "execute_result",
     "data": {
      "text/plain": "0.003724767956268244"
     },
     "metadata": {},
     "execution_count": 35
    }
   ],
   "source": [
    "20000/df.artist.shape[0]"
   ]
  },
  {
   "cell_type": "code",
   "execution_count": 33,
   "metadata": {},
   "outputs": [
    {
     "output_type": "execute_result",
     "data": {
      "text/plain": "0.0027012017218857307"
     },
     "metadata": {},
     "execution_count": 33
    }
   ],
   "source": [
    "len(lyrics.keys())/df.artist.shape[0]"
   ]
  },
  {
   "cell_type": "code",
   "execution_count": 11,
   "metadata": {},
   "outputs": [],
   "source": [
    "#change data format!!!!\n",
    "# save as list[(spot_id,artist) : lytict_dict]\n",
    "y = pylyrics3.get_artist_lyrics('taylor swift', albums=True)"
   ]
  },
  {
   "cell_type": "code",
   "execution_count": 10,
   "metadata": {},
   "outputs": [
    {
     "output_type": "execute_result",
     "data": {
      "text/plain": "{}"
     },
     "metadata": {},
     "execution_count": 10
    }
   ],
   "source": [
    "x[\"'Kill 'Em All (1983)\"]"
   ]
  },
  {
   "cell_type": "code",
   "execution_count": 30,
   "metadata": {},
   "outputs": [
    {
     "output_type": "execute_result",
     "data": {
      "text/plain": "dict_items([('Hit The Lights', \"No life till leather, we're gonna kick some ass tonight \\n We got the metal madness when our fans start screaming, it's right, well, alright, yeah \\n When we start to rock, we never want to stop again \\n Hit the lights \\n Hit the lights \\n Hit the lights \\n We know our fans are insane, we're gonna blow this place away \\n With volume higher than anything today, the only way \\n When we start to rock, we never want to stop again \\n Hit the lights \\n Hit the lights \\n Hit the lights \\n With all our screaming, we're gonna rip right through your brain \\n We got the lethal power, it's causing you sweet pain, oh, sweet pain, yeah \\n When we start to rock, we never want to stop again \\n Hit the lights \\n Hit the lights \\n Hit the lights \\n Hit them lights\"), ('The Four Horsemen', \"By the last breath, the fourth winds blow \\n Better raise your ears \\n The sound of hooves knock at your door \\n Lock up your wife and children, now \\n It's time to wield the blade \\n For now you've got some company \\n The Horsemen are drawing nearer \\n On leather steeds, they ride \\n They've come to take your life \\n On through the dead of night \\n With the Four Horsemen, ride \\n Or choose your fate and die \\n Oh yeah yeah \\n You have been dying since the day you were born \\n You know it's all been planned \\n The quartet of deliverance rides \\n A sinner once, a sinner twice \\n No need for confessions now \\n 'Cause now you've got the fight of your life \\n The Horsemen are drawing nearer \\n On leather steeds, they ride \\n They've come to take your life \\n On through the dead of night \\n With the Four Horsemen, ride \\n Or choose your fate and die \\n Oh yeah yeah \\n Time has taken its toll on you \\n The lines that crack your face \\n Famine, your body, it has torn through \\n Withered in every place \\n Pestilence, for what you had to endure \\n And what you have put others through \\n Death, deliverance, for you, for sure \\n Now there's nothing you can do \\n So, gather 'round, young warriors, now \\n And saddle up your steeds \\n Killing scores with demon swords \\n Now is the death of doers of wrong \\n Swing the judgement hammer down \\n Safely inside armor, blood, guts, and sweat \\n The Horsemen are drawing nearer \\n On leather steeds they ride \\n They've come to take your life \\n On through the dead of night \\n With the Four Horsemen ride \\n Or choose your fate and die \\n Oh yeah yeah\"), ('Motorbreath', \"Living and dying, laughing and crying \\n Once you have seen it, you will never be the same \\n Life in the fast lane is just how it seems \\n Hard and it is heavy and dirty and mean \\n Motorbreath, it's how I live my life \\n I can't take it any other way \\n Motorbreath, the sign of living fast \\n It is going to take your breath away \\n Don't stop for nothing, it's full speed or nothing \\n I am taking down you know, whatever is in my way \\n Getting your kicks as you are shooting the line \\n Sending the shivers up and down my spine \\n Motorbreath, it's how I live my life \\n I can't take it any other way \\n Motorbreath, the sign of living fast \\n It is going to take your breath away \\n Those people who tell you not to take chances \\n They are all missing on what life is about \\n You only live once, so take hold of the chance \\n Don't end up like others, the same song and dance \\n Motorbreath, it's how I live my life \\n I can't take it any other way \\n Motorbreath, the sign of living fast \\n It is going to take your breath away\"), ('Jump In The Fire', \"Down in the depths of my fiery home, the summons bell will chime \\n Tempting you and all the earth to join our sinful kind \\n There is a job to be done and I'm the one you people make me do it \\n Now it is time for your fate and I won't hesitate to pull you down into this pit \\n So come on \\n Jump in the fire \\n So come on \\n Jump in the fire \\n With hell in my eyes and with death in my veins, the end is closing in \\n Feeding on the minds of man and from their souls within \\n My disciples all shout to search you out and they always shall obey \\n Follow me now my child, not the meek or the mild but do just as I say \\n So come on \\n Jump in the fire \\n So come on \\n Jump in the fire \\n Jump by your will or be taken by force, I'll get you either way \\n Trying to keep the hellfire lit, I am stalking you as prey \\n Living your life as me, I am you you see, there is part of me in everyone \\n So reach down, grab my hand, walk with me through the land, come home where you belong \\n So come on \\n Jump in the fire \\n So come on \\n Jump in the fire \\n So come on \\n Jump in the fire \\n So come on \\n Jump in the fire \\n C'mon, jump baby, now\"), ('(Anesthesia) Pulling Teeth', 'Bass solo, take one'), ('Whiplash', \"Late at night, all systems go, you've come to see the show \\n We do our best, you're the rest, you make it real, you know \\n There's a feeling deep inside that drives you fuckin' mad \\n A feeling of a hammerhead, you need it oh so bad \\n Adrenalin starts to flow \\n You're thrashing all around \\n Acting like a maniac \\n Whiplash! \\n Bang your head against the stage like you never did before \\n Make it ring, make it bleed, make it really sore \\n In a frenzied madness with your leather and your spikes \\n Heads are bobbing all around, it's hot as hell tonight \\n Adrenalin starts to flow \\n You're thrashing all around \\n Acting like a maniac \\n Whiplash! \\n Here on the stage the Marshalls' noise is piercing through your ears \\n It kicks your ass, kick your face, exploding feeling nears \\n Now's the time to let it rip, to let it fuckin' loose \\n We're gathered here to maim and kill, 'cause this is what we choose \\n Adrenalin starts to flow \\n You're thrashing all around \\n Acting like a maniac \\n Here we go! \\n Whiplash! \\n The show is through, the metal's gone, it's time to hit the road \\n Another town, another gig, again we will explode \\n Hotel rooms and motorways, life out here is raw \\n But we'll never stop, we'll never quit, 'cause we're Metallica \\n Adrenalin starts to flow \\n You're thrashing all around \\n Acting like a maniac\"), ('Phantom Lord', \"Sound is ripping through your ears \\n The deafening sound of metal nears \\n Your body's waiting for his whips \\n The taste of leather on your lips \\n Hear the cry of war, louder than before \\n With his sword in hand to control the land \\n Crushing metal strikes on this frightening night \\n Fall onto your knees for the phantom lord \\n Victims falling under chains \\n You hear them crying death pains \\n The fists of terrors breaking through \\n Now there's nothing you can do \\n Hear the cry of war, louder than before \\n With his sword in hand to control the land \\n Crushing metal strikes on this frightening night \\n Fall onto your knees for the phantom lord \\n The leather armies have prevailed \\n The phantom lord has never failed \\n Smoke is lifting from the ground \\n The rising volume metal sound \\n Hear the cry of war, louder than before \\n With his sword in hand to control the land \\n Crushing metal strikes on this frightening night \\n Fall onto your knees for the phantom lord \\n Fall to your knees and bow to the phantom lord\"), ('No Remorse', \"No mercy for what we are doing \\n No thought to even what we have done \\n We don't need to feel the sorrow \\n No remorse for the helpless one \\n War without end \\n No remorse, no repent \\n We don't care what it meant \\n Another day, another death \\n Another sorrow, another breath \\n No remorse, no repent \\n We don't care what it meant \\n Another day, another death \\n Another sorrow, another breath \\n Blood feeds the war machine \\n As it eats its way across the land \\n We don't need the feel the sorrow \\n No remorse is the one command \\n War without end \\n No remorse, no repent \\n We don't care what it meant \\n Another day, another death \\n Another sorrow, another breath \\n No remorse, no repent \\n We don't care what it meant \\n Another day, another death \\n Another sorrow, another breath \\n Only the strong survive \\n No one to save the weaker race \\n We are ready to kill all comers \\n Like a loaded gun right at your face \\n War without end \\n No remorse, no repent \\n We don't care what it meant \\n Another day, another death \\n Another sorrow, another breath \\n No remorse, no repent \\n We don't care what it meant \\n Another day, another death \\n Another sorrow, another breath \\n Attack \\n Bullets are flying \\n People are dying \\n With madness surrounding \\n All hell's breaking loose \\n Soldiers are hounding \\n Bodies are mounting \\n Cannons are shouting to take their abuse \\n With war machines going \\n Blood starts a-flowing \\n No mercy given to anyone here \\n The furious fighting \\n Swords are like lightning \\n It all becomes frightening \\n You know death is near \\n No remorse\"), ('Seek & Destroy', \"Alright \\n Scanning the scene in the city tonight \\n Looking for you to start up a fight \\n There's an evil feeling in our brains \\n But it's nothing new, you know it drives us insane \\n Running, on our way \\n Hiding, you will be \\n Dying, one thousand deaths \\n Running, on our way \\n Hiding, you will pay \\n Dying, one thousand deaths \\n Searching \\n Seek and destroy \\n Searching \\n Seek and destroy \\n Searching \\n Seek and destroy \\n Searching \\n Seek and destroy \\n There is no escape and that's for sure \\n This is the end, we won't take anymore \\n Say goodbye to the world you live in \\n You have always been taking but now you're giving \\n Running, on our way \\n Hiding, you will be \\n Dying, one thousand deaths \\n Running, on our way \\n Hiding, you will pay \\n Dying, one thousand deaths \\n Searching \\n Seek and destroy \\n Searching \\n Seek and destroy \\n Searching \\n Seek and destroy \\n Searching \\n Seek and destroy \\n Our brains are on fire with the feeling to kill \\n And it won't go away until our dreams are fulfilled \\n There is only one thing on our minds \\n Don't try running away 'cause you're the one we will find \\n Running, on our way \\n Hiding, you will be \\n Dying, one thousand deaths \\n Running, on our way \\n Hiding, you will pay \\n Dying, one thousand deaths \\n Searching \\n Seek and destroy \\n Searching \\n Seek and destroy \\n Searching \\n Seek and destroy \\n Searching \\n Seek and destroy\"), ('Metal Militia', 'Thunder and lightning, the gods take revenge \\n Senseless destruction \\n Victims of fury are cowardly now \\n Running for safety \\n Stabbing the harlot to pay for her sins \\n Leaving the virgin \\n Suicide running as if it were free \\n Ripping and tearing \\n Oh through the mist and the madness \\n We are trying to get the message to you \\n Metal militia \\n Metal militia \\n Metal militia \\n Chained and shadowed to be left behind \\n Nine and one thousand \\n Metal militia for your sacrifice \\n Iron clad soldiers \\n Join or be conquered the law of the land \\n What will befall you \\n The metalization of your inner soul \\n Twisting and turning \\n Oh through the mist and the madness \\n We are trying to get the message to you \\n Metal militia \\n Metal militia \\n Metal militia \\n We are as one as we all are the same \\n Fighting for one cause \\n Leather and metal are our uniforms \\n Protecting what we are \\n Joining together to take on the world \\n With our heavy metal \\n Spreading the message to everyone here \\n Come let yourself go \\n Oh through the mist and the madness \\n We are trying to get the message to you \\n Metal militia \\n Metal militia \\n Metal militia \\n Metal militia \\n Metal militia \\n Metal militia \\n Metal militia \\n Metal militia \\n Metal militia \\n Metal militia'), ('Am I Evil?', \"My mother was a witch, she was burned alive \\n Thankless little bitch, oh the tears I cried \\n Take her down now, don't want to see her face \\n All blistered and burnt, can't hide my disgrace \\n Twenty-seven, everyone was nice \\n Gotta see 'em, make 'em pay the price \\n See their bodies out on the ice \\n Take my time \\n Am I evil? Yes I am \\n Am I evil? I am man, yes I am \\n As I watched my mother die, I lost my head \\n Revenge now I sought to break with my bread \\n Taking no chances, you come with me \\n I'll split you to the bone, help set you free \\n Twenty-seven, everyone was nice \\n Gotta see 'em, make 'em pay the price \\n See their bodies out on the ice \\n Take my time \\n Am I evil? Yes I am \\n Am I evil? I am man, yes I am \\n On with the action now, I'll strip your pride \\n I'll spread your blood around, I'll see you ride \\n Your face is scarred with steel, wounds deep and neat \\n Like a double dozen before ya, smells so sweet \\n Am I evil? Yes I am \\n Am I evil? I am man \\n I'll make my residence, I'll watch your fire \\n You can come with me, sweet desire \\n My face is long forgot, my face not my own \\n Sweet and timely whore, take me home \\n Am I evil? Yes I am \\n Am I evil? I am man \\n My soul is longing for, await my heir \\n Sent to avenge my mother, sweep myself \\n My face is long forgot, my face not my own \\n Sweet and timely whore, take me home \\n Am I evil? Yes I am \\n Am I evil? I am man \\n Am I evil? Yes I fucking am \\n Am I evil? I am man, yeah\"), ('Blitzkrieg', \"Let us have peace, let us have life \\n Let us escape the cruel night \\n Let us have time, let the sun shine \\n Let us beware the deadly sign \\n The day is coming \\n Armageddon's near \\n Inferno's coming \\n Can we survive the blitzkrieg? \\n The blitzkrieg \\n The blitzkrieg \\n Save us from fate, save us from hate \\n Save ourselves before it's too late \\n Come to our need, hear our plea \\n Save ourselves before the earth bleeds \\n The day is dawning \\n The time is near \\n Aliens calling \\n Can we survive the blitzkrieg?\")])"
     },
     "metadata": {},
     "execution_count": 30
    }
   ],
   "source": [
    "x[\"Kill 'Em All (1983)\"].items()"
   ]
  },
  {
   "cell_type": "code",
   "execution_count": 13,
   "metadata": {},
   "outputs": [
    {
     "output_type": "execute_result",
     "data": {
      "text/plain": "dict_keys(['Taylor Swift (2006)', 'Sounds of the Season: The Taylor Swift Holiday Collection (2007)', 'Beautiful Eyes (2008)', 'Fearless (2008)', 'CMT Crossroads (2010)', 'Speak Now (2010)', 'Speak Now: World Tour Live (2011)', 'Red (2012)', '1989 (2014)', 'Reputation (2017)'])"
     },
     "metadata": {},
     "execution_count": 13
    }
   ],
   "source": [
    "y.keys()"
   ]
  },
  {
   "cell_type": "code",
   "execution_count": 18,
   "metadata": {},
   "outputs": [
    {
     "output_type": "execute_result",
     "data": {
      "text/plain": "\"State the obvious, I didn't get my perfect fantasy \\n I realize you love yourself more than you could ever love me \\n So go and tell your friends that I'm obsessive and crazy \\n That's fine, I'll tell mine you're gay \\n By the way... \\n I hate that stupid old pickup truck you never let me drive \\n You're a redneck heartbreak who's really bad at lying \\n So watch me strike a match on all my wasted time \\n As far as I'm concerned you're just another picture to burn \\n There's no time for tears \\n I'm just sitting here planning my revenge \\n There's nothing stopping me \\n From going out with all of your best friends \\n And if you come around saying sorry to me \\n My daddy's gonna show you how sorry you'll be \\n I hate that stupid old pickup truck you never let me drive \\n You're a redneck heartbreak who's really bad at lying \\n So watch me strike a match on all my wasted time \\n As far as I'm concerned you're just another picture to burn \\n And if you're missing me, you'd better keep it to yourself \\n 'Cause coming back around here would be bad for your health... \\n 'Cause I hate that stupid old pickup truck you never let me drive \\n You're a redneck heartbreak who's really bad at lying \\n So watch me strike a match on all my wasted time \\n In case you haven't heard, I really really hate that... \\n Stupid old pickup truck you never let me drive \\n You're a redneck heartbreak who's really bad at lying \\n So watch me strike a match on all my wasted time \\n As far as I'm concerned you're just another picture to burn \\n Burn, burn, burn, baby burn \\n You're just another picture to burn \\n Baby, burn...\""
     },
     "metadata": {},
     "execution_count": 18
    }
   ],
   "source": [
    "y['Taylor Swift (2006)']['Picture To Burn']"
   ]
  },
  {
   "cell_type": "code",
   "execution_count": 20,
   "metadata": {
    "tags": []
   },
   "outputs": [],
   "source": [
    "for i in y.keys():\n",
    "    album = i"
   ]
  },
  {
   "cell_type": "code",
   "execution_count": 26,
   "metadata": {},
   "outputs": [
    {
     "output_type": "execute_result",
     "data": {
      "text/plain": "'2017'"
     },
     "metadata": {},
     "execution_count": 26
    }
   ],
   "source": [
    "album.split(' (')[1].split(')')[0]"
   ]
  },
  {
   "cell_type": "code",
   "execution_count": 27,
   "metadata": {},
   "outputs": [
    {
     "output_type": "execute_result",
     "data": {
      "text/plain": "'Reputation'"
     },
     "metadata": {},
     "execution_count": 27
    }
   ],
   "source": [
    "album.split(' (')[0]"
   ]
  },
  {
   "cell_type": "code",
   "execution_count": 31,
   "metadata": {},
   "outputs": [],
   "source": [
    "from collections import defaultdict"
   ]
  },
  {
   "cell_type": "code",
   "execution_count": 32,
   "metadata": {},
   "outputs": [],
   "source": [
    "artist_dict = defaultdict(dict)"
   ]
  },
  {
   "cell_type": "code",
   "execution_count": 34,
   "metadata": {},
   "outputs": [
    {
     "output_type": "execute_result",
     "data": {
      "text/plain": "0"
     },
     "metadata": {},
     "execution_count": 34
    }
   ],
   "source": [
    "len(artist_dict)"
   ]
  },
  {
   "cell_type": "code",
   "execution_count": 35,
   "metadata": {},
   "outputs": [],
   "source": [
    "x = None"
   ]
  },
  {
   "cell_type": "code",
   "execution_count": 41,
   "metadata": {},
   "outputs": [
    {
     "output_type": "error",
     "ename": "TypeError",
     "evalue": "'collections.defaultdict' object is not callable",
     "traceback": [
      "\u001b[0;31m---------------------------------------------------------------------------\u001b[0m",
      "\u001b[0;31mTypeError\u001b[0m                                 Traceback (most recent call last)",
      "\u001b[0;32m<ipython-input-41-a89d17e044d8>\u001b[0m in \u001b[0;36m<module>\u001b[0;34m\u001b[0m\n\u001b[0;32m----> 1\u001b[0;31m \u001b[0martist_dict\u001b[0m\u001b[0;34m(\u001b[0m\u001b[0misinstance\u001b[0m\u001b[0;34m,\u001b[0m\u001b[0mtype\u001b[0m\u001b[0;34m)\u001b[0m\u001b[0;34m\u001b[0m\u001b[0;34m\u001b[0m\u001b[0m\n\u001b[0m",
      "\u001b[0;31mTypeError\u001b[0m: 'collections.defaultdict' object is not callable"
     ]
    }
   ],
   "source": [
    "artist_dict()"
   ]
  },
  {
   "cell_type": "code",
   "execution_count": 40,
   "metadata": {},
   "outputs": [
    {
     "output_type": "execute_result",
     "data": {
      "text/plain": "type"
     },
     "metadata": {},
     "execution_count": 40
    }
   ],
   "source": []
  },
  {
   "cell_type": "code",
   "execution_count": null,
   "metadata": {},
   "outputs": [],
   "source": []
  }
 ]
}